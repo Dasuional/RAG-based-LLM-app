{
 "cells": [
  {
   "cell_type": "code",
   "execution_count": null,
   "id": "e61bf9ba-9817-40db-b678-e8b4b712ddb2",
   "metadata": {},
   "outputs": [],
   "source": [
    "# %pip install langchain-community\n",
    "# %pip install -qU langchain-together\n",
    "# %pip install -qU langchain-openai\n",
    "!pip uninstall torch torchvision torchaudio"
   ]
  },
  {
   "cell_type": "code",
   "execution_count": null,
   "id": "93745b0e-8d07-4055-b65c-421561221fd4",
   "metadata": {},
   "outputs": [],
   "source": [
    "import numpy as np\n",
    "import pandas as pd\n",
    "from langchain.docstore.document import Document\n",
    "from langchain.document_loaders import TextLoader\n",
    "from langchain_text_splitters import RecursiveCharacterTextSplitter\n",
    "import tensorflow as tf\n",
    "from langchain_core.vectorstores import InMemoryVectorStore\n",
    "from langchain_together import TogetherEmbeddings\n",
    "from langchain_openai import OpenAIEmbeddings"
   ]
  },
  {
   "cell_type": "code",
   "execution_count": null,
   "id": "76ae922c-91eb-47e6-b952-706d8882bbe0",
   "metadata": {},
   "outputs": [],
   "source": [
    "import getpass\n",
    "import os\n",
    "\n",
    "if not os.getenv(\"TOGETHER_API_KEY\"):\n",
    "    os.environ[\"TOGETHER_API_KEY\"] = getpass.getpass(\"Enter your Together API key: \")"
   ]
  },
  {
   "cell_type": "code",
   "execution_count": null,
   "id": "ac1389f0-44ac-4463-8bfe-b0d1d36128b6",
   "metadata": {},
   "outputs": [],
   "source": [
    "import torch\n",
    "torch.cuda.is_available()"
   ]
  },
  {
   "cell_type": "code",
   "execution_count": null,
   "id": "fa169d9e-911e-44ba-85a5-88f18f30384a",
   "metadata": {},
   "outputs": [],
   "source": [
    "embeddings = TogetherEmbeddings(\n",
    "    model=\"togethercomputer/m2-bert-80M-8k-retrieval\",\n",
    "    # device=\"cuda\"\n",
    ")\n",
    "\n",
    "# embeddings = OpenAIEmbeddings(\n",
    "#     model=\"text-embedding-3-large\",\n",
    "# )\n",
    "loader = TextLoader('documents_small.txt')\n",
    "documents = loader.load()\n",
    "\n",
    "text_splitter = RecursiveCharacterTextSplitter(\n",
    "    # Set a really small chunk size, just to show.\n",
    "    chunk_size=250,\n",
    "    chunk_overlap=0,\n",
    "    # length_function=len,\n",
    "    # is_separator_regex=False,\n",
    ")\n",
    "\n",
    "docs = text_splitter.split_documents(documents)\n",
    "texts = [doc.page_content for doc in docs]\n",
    "# text2 = \"sahil is a good person with a briliant brain also with evry good looks\"\n",
    "vectorstore = InMemoryVectorStore.from_texts(\n",
    "    texts,\n",
    "    embedding=embeddings,\n",
    "    # device='cuda'\n",
    ")\n",
    "\n",
    "# Use the vectorstore as a retriever\n",
    "retriever = vectorstore.as_retriever()\n",
    "# Retrieve the most similar text\n",
    "# retrieved_documents = retriever.invoke(\"What is LangChain?\")\n",
    "\n",
    "# # show the retrieved document's content\n",
    "# retrieved_documents[0].page_content"
   ]
  }
 ],
 "metadata": {
  "kernelspec": {
   "display_name": "Python 3 (ipykernel)",
   "language": "python",
   "name": "python3"
  },
  "language_info": {
   "codemirror_mode": {
    "name": "ipython",
    "version": 3
   },
   "file_extension": ".py",
   "mimetype": "text/x-python",
   "name": "python",
   "nbconvert_exporter": "python",
   "pygments_lexer": "ipython3",
   "version": "3.12.1"
  }
 },
 "nbformat": 4,
 "nbformat_minor": 5
}
